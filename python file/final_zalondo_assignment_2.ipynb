{
 "cells": [
  {
   "cell_type": "code",
   "execution_count": 1,
   "id": "bed3a629",
   "metadata": {},
   "outputs": [
    {
     "name": "stderr",
     "output_type": "stream",
     "text": [
      "C:\\ProgramData\\Anaconda3\\lib\\site-packages\\thefuzz\\fuzz.py:11: UserWarning: Using slow pure-python SequenceMatcher. Install python-Levenshtein to remove this warning\n",
      "  warnings.warn('Using slow pure-python SequenceMatcher. Install python-Levenshtein to remove this warning')\n",
      "C:\\ProgramData\\Anaconda3\\lib\\site-packages\\fuzzywuzzy\\fuzz.py:11: UserWarning: Using slow pure-python SequenceMatcher. Install python-Levenshtein to remove this warning\n",
      "  warnings.warn('Using slow pure-python SequenceMatcher. Install python-Levenshtein to remove this warning')\n"
     ]
    }
   ],
   "source": [
    "# libraries\n",
    "#importing necessary packages for the assignment\n",
    "import os\n",
    "from datetime import datetime\n",
    "import pandas as pd\n",
    "import numpy as np\n",
    "import matplotlib.pyplot as plt\n",
    "import matplotlib.image as mpimg\n",
    "from PIL import Image\n",
    "import urllib\n",
    "from random import choices\n",
    "from itertools import chain\n",
    "# Levenshtein Distance in Python\n",
    "# https://github.com/seatgeek/thefuzz\n",
    "from thefuzz import fuzz, process\n",
    "\n",
    "# Matplotlib configuration\n",
    "font = { 'family': 'DejaVu Sans', 'weight': 'bold', 'size': 16 }\n",
    "plt.rc('font', **font)\n",
    "\n",
    "# Pandas config\n",
    "pd.options.mode.chained_assignment = None  # default='warn'\n",
    "\n",
    "\n",
    "\n",
    "\n",
    "from functools import wraps\n",
    "import types\n",
    "\n",
    "from pyspark.conf import SparkConf\n",
    "from pyspark.context import SparkContext\n",
    "from pyspark.rdd import RDD, RDDBarrier\n",
    "from pyspark.files import SparkFiles\n",
    "from pyspark.storagelevel import StorageLevel\n",
    "from pyspark.accumulators import Accumulator, AccumulatorParam\n",
    "from pyspark.broadcast import Broadcast\n",
    "from pyspark.serializers import MarshalSerializer, PickleSerializer\n",
    "from pyspark.status import *\n",
    "from pyspark.taskcontext import TaskContext, BarrierTaskContext, BarrierTaskInfo\n",
    "from pyspark.profiler import Profiler, BasicProfiler\n",
    "from pyspark.version import __version__\n",
    "from pyspark._globals import _NoValue\n",
    "\n",
    "\n",
    "\n",
    "import time\n",
    "import re\n",
    "import pandas as pd\n",
    "import numpy as np\n",
    "import jellyfish as jf\n",
    "from fuzzywuzzy import fuzz\n",
    "from fuzzywuzzy import process\n",
    "from sklearn.neural_network import MLPClassifier\n",
    "from xgboost import XGBClassifier\n",
    "from sklearn.dummy import DummyClassifier\n",
    "from sklearn.neighbors import KNeighborsClassifier\n",
    "from sklearn.tree import DecisionTreeClassifier\n",
    "from sklearn.ensemble import RandomForestClassifier\n",
    "from sklearn.ensemble import AdaBoostClassifier\n",
    "from sklearn.ensemble import GradientBoostingClassifier\n",
    "from sklearn.linear_model import Perceptron\n",
    "from sklearn.svm import SVC\n",
    "from sklearn.model_selection import train_test_split\n",
    "from sklearn.model_selection import GridSearchCV\n",
    "from sklearn.metrics import classification_report\n",
    "from sklearn.metrics import f1_score\n",
    "from sklearn.metrics import accuracy_score\n",
    "from sklearn.metrics import mean_absolute_error\n",
    "from sklearn.metrics import precision_score\n",
    "from sklearn.metrics import recall_score\n",
    "from sklearn.metrics import confusion_matrix\n",
    "from sklearn.metrics import roc_auc_score\n",
    "\n",
    "\n",
    "\n",
    "#MLlib\n",
    "#machiine learning API for spark\n",
    "\n",
    "from __future__ import print_function\n",
    "from pyspark.mllib.recommendation import ALS, MatrixFactorizationModel, Rating\n",
    "\n",
    "\n",
    "import numpy as np\n",
    "import pandas as pd\n",
    "import pickle\n",
    "import vaderSentiment\n",
    "import seaborn as sns\n",
    "import matplotlib.pyplot as plt\n",
    "from matplotlib import pyplot\n",
    "from vaderSentiment.vaderSentiment import SentimentIntensityAnalyzer\n",
    "from sklearn.model_selection import train_test_split\n",
    "import spacy\n",
    "nlp = spacy.load(\"en_core_web_sm\")\n",
    "import gc\n",
    "gc.collect()\n",
    "# set random seed\n",
    "np.random.seed(seed=42)\n",
    "\n",
    "from sklearn.feature_extraction.text import TfidfVectorizer\n",
    "from sklearn.metrics.pairwise import linear_kernel\n",
    "from sklearn.cluster import MiniBatchKMeans\n",
    "from skimpy import clean_columns\n",
    "from sentence_transformers import SentenceTransformer\n",
    "import matplotlib.pyplot as plt\n",
    "from fuzzywuzzy import process, fuzz\n",
    "model = SentenceTransformer('bert-base-nli-mean-tokens')\n",
    "import pandas as pd\n",
    "import keras\n",
    "from keras import Sequential, layers, regularizers, optimizers\n",
    "import numpy as np\n",
    "from string import punctuation\n",
    "import pyprind\n",
    "from collections import Counter\n",
    "from keras.preprocessing.text import Tokenizer\n",
    "from sklearn.model_selection import train_test_split\n",
    "import matplotlib.pyplot as plt\n",
    "from scipy import stats\n",
    "from natsort import natsorted,ns\n",
    "\n",
    "import numpy as np\n",
    "import pandas as pd\n",
    "import re\n",
    "import nltk\n",
    "from nltk.stem.snowball import SnowballStemmer\n",
    "import numpy as np\n",
    "from sklearn.metrics.pairwise import cosine_similarity\n",
    "from nltk import sent_tokenize\n",
    "from sentence_transformers import SentenceTransformer\n",
    "from sklearn.feature_extraction.text import HashingVectorizer, TfidfVectorizer\n",
    "from sklearn.pipeline import make_pipeline\n",
    "from sklearn.pipeline import FeatureUnion, Pipeline\n",
    "from sklearn.feature_extraction.text import TfidfVectorizer\n",
    "from sklearn.feature_extraction.text import TfidfTransformer\n",
    "from sklearn import svm\n",
    "import csv\n",
    "import pandas as pd\n",
    "import numpy as np\n",
    "from sklearn.model_selection import train_test_split\n",
    "from sklearn.feature_extraction.text import TfidfVectorizer\n",
    "from sklearn.naive_bayes import BernoulliNB\n",
    "from sklearn.metrics import classification_report\n",
    "from sklearn.metrics import accuracy_score\n",
    "import numpy as np\n",
    "from sklearn.compose import ColumnTransformer\n",
    "from sklearn.preprocessing import Normalizer\n",
    "\n",
    "\n",
    "import pandas as pd\n",
    "import matplotlib.pyplot as plt\n",
    "import plotly.express as px\n",
    "from sklearn.feature_extraction.text import CountVectorizer\n",
    "from collections import Counter\n",
    "\n",
    "import pandas as pd\n",
    "import numpy as np\n",
    "import sklearn.preprocessing, sklearn.decomposition, sklearn.linear_model, sklearn.pipeline, sklearn.metrics, sklearn.compose\n",
    "from sklearn.feature_extraction.text import CountVectorizer\n",
    "\n",
    "# Import package/module for data\n",
    "import numpy as np\n",
    "import pandas as pd\n",
    "from seaborn import load_dataset\n",
    "\n",
    "# Import modules for feature engineering and modelling\n",
    "from sklearn.model_selection import train_test_split\n",
    "from sklearn.base import BaseEstimator, TransformerMixin\n",
    "from sklearn.preprocessing import OneHotEncoder, MinMaxScaler\n",
    "from sklearn.impute import SimpleImputer\n",
    "from sklearn.pipeline import Pipeline, FeatureUnion\n",
    "from sklearn.compose import ColumnTransformer\n",
    "from sklearn.linear_model import LinearRegression\n",
    "from sklearn import datasets"
   ]
  },
  {
   "cell_type": "code",
   "execution_count": 2,
   "id": "8a9868f5",
   "metadata": {},
   "outputs": [],
   "source": [
    "#calling the training parquet file in which processing has to be done\n",
    "offers_training_df = pd.read_parquet('offers_training.parquet') "
   ]
  },
  {
   "cell_type": "code",
   "execution_count": 4,
   "id": "e46aa59a",
   "metadata": {},
   "outputs": [
    {
     "data": {
      "text/html": [
       "<div>\n",
       "<style scoped>\n",
       "    .dataframe tbody tr th:only-of-type {\n",
       "        vertical-align: middle;\n",
       "    }\n",
       "\n",
       "    .dataframe tbody tr th {\n",
       "        vertical-align: top;\n",
       "    }\n",
       "\n",
       "    .dataframe thead th {\n",
       "        text-align: right;\n",
       "    }\n",
       "</style>\n",
       "<table border=\"1\" class=\"dataframe\">\n",
       "  <thead>\n",
       "    <tr style=\"text-align: right;\">\n",
       "      <th></th>\n",
       "      <th>offer_id</th>\n",
       "      <th>brand</th>\n",
       "      <th>color</th>\n",
       "      <th>title</th>\n",
       "      <th>description</th>\n",
       "    </tr>\n",
       "  </thead>\n",
       "  <tbody>\n",
       "    <tr>\n",
       "      <th>0</th>\n",
       "      <td>d8e0dba8-98e8-48db-9850-dd30cff374e0</td>\n",
       "      <td>PIECES</td>\n",
       "      <td>hellblau | Blau</td>\n",
       "      <td>Kleid</td>\n",
       "      <td>{\"Material\": [\"Baumwolle\"], \"\\u00c4rmell\\u00e4...</td>\n",
       "    </tr>\n",
       "    <tr>\n",
       "      <th>1</th>\n",
       "      <td>c0a743f8-68cf-44dc-80cf-b5edbe70ecb7</td>\n",
       "      <td>LASCANA</td>\n",
       "      <td>schwarz | mischfarben | Schwarz</td>\n",
       "      <td>Bikinihose</td>\n",
       "      <td>{\"Leibh\\u00f6he\": [\"Super Low Waist\"], \"Marke\"...</td>\n",
       "    </tr>\n",
       "    <tr>\n",
       "      <th>2</th>\n",
       "      <td>f0328791-9839-4bc1-ac62-78b7515e9601</td>\n",
       "      <td>MAMALICIOUS</td>\n",
       "      <td>beige | Beige</td>\n",
       "      <td>Chino-Hose</td>\n",
       "      <td>{\"Marke\": [\"MAMALICIOUS\"], \"Gr\\u00f6\\u00dfenla...</td>\n",
       "    </tr>\n",
       "    <tr>\n",
       "      <th>3</th>\n",
       "      <td>556e8f61-b1d7-4d72-8bae-d74f9357270b</td>\n",
       "      <td>rosemunde</td>\n",
       "      <td>rosa | Pink</td>\n",
       "      <td>Top / Seidentop</td>\n",
       "      <td>{\"Marke\": [\"rosemunde\"], \"Zielgruppe\": [\"Femal...</td>\n",
       "    </tr>\n",
       "    <tr>\n",
       "      <th>4</th>\n",
       "      <td>48b32330-0a6e-4c10-9ef5-c585ac6da701</td>\n",
       "      <td>PIECES</td>\n",
       "      <td>mischfarben | schwarz | Mischfarben | Schwarz</td>\n",
       "      <td>Kleid</td>\n",
       "      <td>{\"\\u00c4rmell\\u00e4nge\": [\"Langarm\"], \"Ausschn...</td>\n",
       "    </tr>\n",
       "  </tbody>\n",
       "</table>\n",
       "</div>"
      ],
      "text/plain": [
       "                               offer_id        brand  \\\n",
       "0  d8e0dba8-98e8-48db-9850-dd30cff374e0       PIECES   \n",
       "1  c0a743f8-68cf-44dc-80cf-b5edbe70ecb7      LASCANA   \n",
       "2  f0328791-9839-4bc1-ac62-78b7515e9601  MAMALICIOUS   \n",
       "3  556e8f61-b1d7-4d72-8bae-d74f9357270b    rosemunde   \n",
       "4  48b32330-0a6e-4c10-9ef5-c585ac6da701       PIECES   \n",
       "\n",
       "                                           color            title  \\\n",
       "0                                hellblau | Blau            Kleid   \n",
       "1                schwarz | mischfarben | Schwarz       Bikinihose   \n",
       "2                                  beige | Beige       Chino-Hose   \n",
       "3                                    rosa | Pink  Top / Seidentop   \n",
       "4  mischfarben | schwarz | Mischfarben | Schwarz            Kleid   \n",
       "\n",
       "                                         description  \n",
       "0  {\"Material\": [\"Baumwolle\"], \"\\u00c4rmell\\u00e4...  \n",
       "1  {\"Leibh\\u00f6he\": [\"Super Low Waist\"], \"Marke\"...  \n",
       "2  {\"Marke\": [\"MAMALICIOUS\"], \"Gr\\u00f6\\u00dfenla...  \n",
       "3  {\"Marke\": [\"rosemunde\"], \"Zielgruppe\": [\"Femal...  \n",
       "4  {\"\\u00c4rmell\\u00e4nge\": [\"Langarm\"], \"Ausschn...  "
      ]
     },
     "execution_count": 4,
     "metadata": {},
     "output_type": "execute_result"
    }
   ],
   "source": [
    "offers_training_df_updated = offers_training_df [['offer_id', 'brand', 'color', 'title', 'description']]\n",
    "offers_training_df_updated.head()"
   ]
  },
  {
   "cell_type": "code",
   "execution_count": 5,
   "id": "ca16a5d3",
   "metadata": {},
   "outputs": [],
   "source": [
    "offers_training_df_updated[\"Name2\"] = offers_training_df_updated[\"brand\"] + ' ' + offers_training_df_updated[\"color\"] + ' ' + offers_training_df_updated[\"title\"]"
   ]
  },
  {
   "cell_type": "code",
   "execution_count": 6,
   "id": "9493d3ef",
   "metadata": {},
   "outputs": [
    {
     "data": {
      "text/html": [
       "<div>\n",
       "<style scoped>\n",
       "    .dataframe tbody tr th:only-of-type {\n",
       "        vertical-align: middle;\n",
       "    }\n",
       "\n",
       "    .dataframe tbody tr th {\n",
       "        vertical-align: top;\n",
       "    }\n",
       "\n",
       "    .dataframe thead th {\n",
       "        text-align: right;\n",
       "    }\n",
       "</style>\n",
       "<table border=\"1\" class=\"dataframe\">\n",
       "  <thead>\n",
       "    <tr style=\"text-align: right;\">\n",
       "      <th></th>\n",
       "      <th>offer_id</th>\n",
       "      <th>brand</th>\n",
       "      <th>color</th>\n",
       "      <th>title</th>\n",
       "      <th>description</th>\n",
       "      <th>Name2</th>\n",
       "    </tr>\n",
       "  </thead>\n",
       "  <tbody>\n",
       "    <tr>\n",
       "      <th>0</th>\n",
       "      <td>d8e0dba8-98e8-48db-9850-dd30cff374e0</td>\n",
       "      <td>PIECES</td>\n",
       "      <td>hellblau | Blau</td>\n",
       "      <td>Kleid</td>\n",
       "      <td>{\"Material\": [\"Baumwolle\"], \"\\u00c4rmell\\u00e4...</td>\n",
       "      <td>PIECES hellblau | Blau Kleid</td>\n",
       "    </tr>\n",
       "    <tr>\n",
       "      <th>1</th>\n",
       "      <td>c0a743f8-68cf-44dc-80cf-b5edbe70ecb7</td>\n",
       "      <td>LASCANA</td>\n",
       "      <td>schwarz | mischfarben | Schwarz</td>\n",
       "      <td>Bikinihose</td>\n",
       "      <td>{\"Leibh\\u00f6he\": [\"Super Low Waist\"], \"Marke\"...</td>\n",
       "      <td>LASCANA schwarz | mischfarben | Schwarz Bikini...</td>\n",
       "    </tr>\n",
       "    <tr>\n",
       "      <th>2</th>\n",
       "      <td>f0328791-9839-4bc1-ac62-78b7515e9601</td>\n",
       "      <td>MAMALICIOUS</td>\n",
       "      <td>beige | Beige</td>\n",
       "      <td>Chino-Hose</td>\n",
       "      <td>{\"Marke\": [\"MAMALICIOUS\"], \"Gr\\u00f6\\u00dfenla...</td>\n",
       "      <td>MAMALICIOUS beige | Beige Chino-Hose</td>\n",
       "    </tr>\n",
       "    <tr>\n",
       "      <th>3</th>\n",
       "      <td>556e8f61-b1d7-4d72-8bae-d74f9357270b</td>\n",
       "      <td>rosemunde</td>\n",
       "      <td>rosa | Pink</td>\n",
       "      <td>Top / Seidentop</td>\n",
       "      <td>{\"Marke\": [\"rosemunde\"], \"Zielgruppe\": [\"Femal...</td>\n",
       "      <td>rosemunde rosa | Pink Top / Seidentop</td>\n",
       "    </tr>\n",
       "    <tr>\n",
       "      <th>4</th>\n",
       "      <td>48b32330-0a6e-4c10-9ef5-c585ac6da701</td>\n",
       "      <td>PIECES</td>\n",
       "      <td>mischfarben | schwarz | Mischfarben | Schwarz</td>\n",
       "      <td>Kleid</td>\n",
       "      <td>{\"\\u00c4rmell\\u00e4nge\": [\"Langarm\"], \"Ausschn...</td>\n",
       "      <td>PIECES mischfarben | schwarz | Mischfarben | S...</td>\n",
       "    </tr>\n",
       "  </tbody>\n",
       "</table>\n",
       "</div>"
      ],
      "text/plain": [
       "                               offer_id        brand  \\\n",
       "0  d8e0dba8-98e8-48db-9850-dd30cff374e0       PIECES   \n",
       "1  c0a743f8-68cf-44dc-80cf-b5edbe70ecb7      LASCANA   \n",
       "2  f0328791-9839-4bc1-ac62-78b7515e9601  MAMALICIOUS   \n",
       "3  556e8f61-b1d7-4d72-8bae-d74f9357270b    rosemunde   \n",
       "4  48b32330-0a6e-4c10-9ef5-c585ac6da701       PIECES   \n",
       "\n",
       "                                           color            title  \\\n",
       "0                                hellblau | Blau            Kleid   \n",
       "1                schwarz | mischfarben | Schwarz       Bikinihose   \n",
       "2                                  beige | Beige       Chino-Hose   \n",
       "3                                    rosa | Pink  Top / Seidentop   \n",
       "4  mischfarben | schwarz | Mischfarben | Schwarz            Kleid   \n",
       "\n",
       "                                         description  \\\n",
       "0  {\"Material\": [\"Baumwolle\"], \"\\u00c4rmell\\u00e4...   \n",
       "1  {\"Leibh\\u00f6he\": [\"Super Low Waist\"], \"Marke\"...   \n",
       "2  {\"Marke\": [\"MAMALICIOUS\"], \"Gr\\u00f6\\u00dfenla...   \n",
       "3  {\"Marke\": [\"rosemunde\"], \"Zielgruppe\": [\"Femal...   \n",
       "4  {\"\\u00c4rmell\\u00e4nge\": [\"Langarm\"], \"Ausschn...   \n",
       "\n",
       "                                               Name2  \n",
       "0                       PIECES hellblau | Blau Kleid  \n",
       "1  LASCANA schwarz | mischfarben | Schwarz Bikini...  \n",
       "2               MAMALICIOUS beige | Beige Chino-Hose  \n",
       "3              rosemunde rosa | Pink Top / Seidentop  \n",
       "4  PIECES mischfarben | schwarz | Mischfarben | S...  "
      ]
     },
     "execution_count": 6,
     "metadata": {},
     "output_type": "execute_result"
    }
   ],
   "source": [
    "offers_training_df_updated.head()"
   ]
  },
  {
   "cell_type": "code",
   "execution_count": 7,
   "id": "87d1d634",
   "metadata": {},
   "outputs": [],
   "source": [
    "offers_training_df_updated_1 = offers_training_df_updated [['offer_id', 'brand', 'Name2']]"
   ]
  },
  {
   "cell_type": "code",
   "execution_count": 8,
   "id": "afbfc2ee",
   "metadata": {},
   "outputs": [
    {
     "data": {
      "text/html": [
       "<div>\n",
       "<style scoped>\n",
       "    .dataframe tbody tr th:only-of-type {\n",
       "        vertical-align: middle;\n",
       "    }\n",
       "\n",
       "    .dataframe tbody tr th {\n",
       "        vertical-align: top;\n",
       "    }\n",
       "\n",
       "    .dataframe thead th {\n",
       "        text-align: right;\n",
       "    }\n",
       "</style>\n",
       "<table border=\"1\" class=\"dataframe\">\n",
       "  <thead>\n",
       "    <tr style=\"text-align: right;\">\n",
       "      <th></th>\n",
       "      <th>offer_id</th>\n",
       "      <th>brand</th>\n",
       "      <th>Name2</th>\n",
       "    </tr>\n",
       "  </thead>\n",
       "  <tbody>\n",
       "    <tr>\n",
       "      <th>0</th>\n",
       "      <td>d8e0dba8-98e8-48db-9850-dd30cff374e0</td>\n",
       "      <td>PIECES</td>\n",
       "      <td>PIECES hellblau | Blau Kleid</td>\n",
       "    </tr>\n",
       "    <tr>\n",
       "      <th>1</th>\n",
       "      <td>c0a743f8-68cf-44dc-80cf-b5edbe70ecb7</td>\n",
       "      <td>LASCANA</td>\n",
       "      <td>LASCANA schwarz | mischfarben | Schwarz Bikini...</td>\n",
       "    </tr>\n",
       "    <tr>\n",
       "      <th>2</th>\n",
       "      <td>f0328791-9839-4bc1-ac62-78b7515e9601</td>\n",
       "      <td>MAMALICIOUS</td>\n",
       "      <td>MAMALICIOUS beige | Beige Chino-Hose</td>\n",
       "    </tr>\n",
       "    <tr>\n",
       "      <th>3</th>\n",
       "      <td>556e8f61-b1d7-4d72-8bae-d74f9357270b</td>\n",
       "      <td>rosemunde</td>\n",
       "      <td>rosemunde rosa | Pink Top / Seidentop</td>\n",
       "    </tr>\n",
       "    <tr>\n",
       "      <th>4</th>\n",
       "      <td>48b32330-0a6e-4c10-9ef5-c585ac6da701</td>\n",
       "      <td>PIECES</td>\n",
       "      <td>PIECES mischfarben | schwarz | Mischfarben | S...</td>\n",
       "    </tr>\n",
       "  </tbody>\n",
       "</table>\n",
       "</div>"
      ],
      "text/plain": [
       "                               offer_id        brand  \\\n",
       "0  d8e0dba8-98e8-48db-9850-dd30cff374e0       PIECES   \n",
       "1  c0a743f8-68cf-44dc-80cf-b5edbe70ecb7      LASCANA   \n",
       "2  f0328791-9839-4bc1-ac62-78b7515e9601  MAMALICIOUS   \n",
       "3  556e8f61-b1d7-4d72-8bae-d74f9357270b    rosemunde   \n",
       "4  48b32330-0a6e-4c10-9ef5-c585ac6da701       PIECES   \n",
       "\n",
       "                                               Name2  \n",
       "0                       PIECES hellblau | Blau Kleid  \n",
       "1  LASCANA schwarz | mischfarben | Schwarz Bikini...  \n",
       "2               MAMALICIOUS beige | Beige Chino-Hose  \n",
       "3              rosemunde rosa | Pink Top / Seidentop  \n",
       "4  PIECES mischfarben | schwarz | Mischfarben | S...  "
      ]
     },
     "execution_count": 8,
     "metadata": {},
     "output_type": "execute_result"
    }
   ],
   "source": [
    "offers_training_df_updated_1.head()"
   ]
  },
  {
   "cell_type": "code",
   "execution_count": 10,
   "id": "19ffff60",
   "metadata": {},
   "outputs": [
    {
     "data": {
      "text/html": [
       "<div>\n",
       "<style scoped>\n",
       "    .dataframe tbody tr th:only-of-type {\n",
       "        vertical-align: middle;\n",
       "    }\n",
       "\n",
       "    .dataframe tbody tr th {\n",
       "        vertical-align: top;\n",
       "    }\n",
       "\n",
       "    .dataframe thead th {\n",
       "        text-align: right;\n",
       "    }\n",
       "</style>\n",
       "<table border=\"1\" class=\"dataframe\">\n",
       "  <thead>\n",
       "    <tr style=\"text-align: right;\">\n",
       "      <th></th>\n",
       "      <th>offer_id</th>\n",
       "      <th>brand</th>\n",
       "      <th>Name2</th>\n",
       "      <th>updated</th>\n",
       "    </tr>\n",
       "  </thead>\n",
       "  <tbody>\n",
       "    <tr>\n",
       "      <th>0</th>\n",
       "      <td>d8e0dba8-98e8-48db-9850-dd30cff374e0</td>\n",
       "      <td>PIECES</td>\n",
       "      <td>PIECES hellblau | Blau Kleid</td>\n",
       "      <td>PIECES hellblau   Blau Kleid</td>\n",
       "    </tr>\n",
       "    <tr>\n",
       "      <th>1</th>\n",
       "      <td>c0a743f8-68cf-44dc-80cf-b5edbe70ecb7</td>\n",
       "      <td>LASCANA</td>\n",
       "      <td>LASCANA schwarz | mischfarben | Schwarz Bikini...</td>\n",
       "      <td>LASCANA schwarz   mischfarben   Schwarz Bikini...</td>\n",
       "    </tr>\n",
       "    <tr>\n",
       "      <th>2</th>\n",
       "      <td>f0328791-9839-4bc1-ac62-78b7515e9601</td>\n",
       "      <td>MAMALICIOUS</td>\n",
       "      <td>MAMALICIOUS beige | Beige Chino-Hose</td>\n",
       "      <td>MAMALICIOUS beige   Beige Chino Hose</td>\n",
       "    </tr>\n",
       "    <tr>\n",
       "      <th>3</th>\n",
       "      <td>556e8f61-b1d7-4d72-8bae-d74f9357270b</td>\n",
       "      <td>rosemunde</td>\n",
       "      <td>rosemunde rosa | Pink Top / Seidentop</td>\n",
       "      <td>rosemunde rosa   Pink Top   Seidentop</td>\n",
       "    </tr>\n",
       "    <tr>\n",
       "      <th>4</th>\n",
       "      <td>48b32330-0a6e-4c10-9ef5-c585ac6da701</td>\n",
       "      <td>PIECES</td>\n",
       "      <td>PIECES mischfarben | schwarz | Mischfarben | S...</td>\n",
       "      <td>PIECES mischfarben   schwarz   Mischfarben   S...</td>\n",
       "    </tr>\n",
       "  </tbody>\n",
       "</table>\n",
       "</div>"
      ],
      "text/plain": [
       "                               offer_id        brand  \\\n",
       "0  d8e0dba8-98e8-48db-9850-dd30cff374e0       PIECES   \n",
       "1  c0a743f8-68cf-44dc-80cf-b5edbe70ecb7      LASCANA   \n",
       "2  f0328791-9839-4bc1-ac62-78b7515e9601  MAMALICIOUS   \n",
       "3  556e8f61-b1d7-4d72-8bae-d74f9357270b    rosemunde   \n",
       "4  48b32330-0a6e-4c10-9ef5-c585ac6da701       PIECES   \n",
       "\n",
       "                                               Name2  \\\n",
       "0                       PIECES hellblau | Blau Kleid   \n",
       "1  LASCANA schwarz | mischfarben | Schwarz Bikini...   \n",
       "2               MAMALICIOUS beige | Beige Chino-Hose   \n",
       "3              rosemunde rosa | Pink Top / Seidentop   \n",
       "4  PIECES mischfarben | schwarz | Mischfarben | S...   \n",
       "\n",
       "                                             updated  \n",
       "0                       PIECES hellblau   Blau Kleid  \n",
       "1  LASCANA schwarz   mischfarben   Schwarz Bikini...  \n",
       "2               MAMALICIOUS beige   Beige Chino Hose  \n",
       "3              rosemunde rosa   Pink Top   Seidentop  \n",
       "4  PIECES mischfarben   schwarz   Mischfarben   S...  "
      ]
     },
     "execution_count": 10,
     "metadata": {},
     "output_type": "execute_result"
    }
   ],
   "source": [
    "offers_training_df_updated_1['updated'] = offers_training_df_updated_1['Name2'].str.replace('[^\\w\\s]', ' ', regex= True)\n",
    "offers_training_df_updated_1.head()"
   ]
  },
  {
   "cell_type": "code",
   "execution_count": 11,
   "id": "d0990582",
   "metadata": {},
   "outputs": [],
   "source": [
    "offers_training_df_updated_2 = offers_training_df_updated_1 [['offer_id', 'brand', 'updated']]"
   ]
  },
  {
   "cell_type": "code",
   "execution_count": 12,
   "id": "58d39882",
   "metadata": {},
   "outputs": [
    {
     "data": {
      "text/html": [
       "<div>\n",
       "<style scoped>\n",
       "    .dataframe tbody tr th:only-of-type {\n",
       "        vertical-align: middle;\n",
       "    }\n",
       "\n",
       "    .dataframe tbody tr th {\n",
       "        vertical-align: top;\n",
       "    }\n",
       "\n",
       "    .dataframe thead th {\n",
       "        text-align: right;\n",
       "    }\n",
       "</style>\n",
       "<table border=\"1\" class=\"dataframe\">\n",
       "  <thead>\n",
       "    <tr style=\"text-align: right;\">\n",
       "      <th></th>\n",
       "      <th>offer_id</th>\n",
       "      <th>brand</th>\n",
       "      <th>updated</th>\n",
       "    </tr>\n",
       "  </thead>\n",
       "  <tbody>\n",
       "    <tr>\n",
       "      <th>0</th>\n",
       "      <td>d8e0dba8-98e8-48db-9850-dd30cff374e0</td>\n",
       "      <td>PIECES</td>\n",
       "      <td>PIECES hellblau   Blau Kleid</td>\n",
       "    </tr>\n",
       "    <tr>\n",
       "      <th>1</th>\n",
       "      <td>c0a743f8-68cf-44dc-80cf-b5edbe70ecb7</td>\n",
       "      <td>LASCANA</td>\n",
       "      <td>LASCANA schwarz   mischfarben   Schwarz Bikini...</td>\n",
       "    </tr>\n",
       "    <tr>\n",
       "      <th>2</th>\n",
       "      <td>f0328791-9839-4bc1-ac62-78b7515e9601</td>\n",
       "      <td>MAMALICIOUS</td>\n",
       "      <td>MAMALICIOUS beige   Beige Chino Hose</td>\n",
       "    </tr>\n",
       "    <tr>\n",
       "      <th>3</th>\n",
       "      <td>556e8f61-b1d7-4d72-8bae-d74f9357270b</td>\n",
       "      <td>rosemunde</td>\n",
       "      <td>rosemunde rosa   Pink Top   Seidentop</td>\n",
       "    </tr>\n",
       "    <tr>\n",
       "      <th>4</th>\n",
       "      <td>48b32330-0a6e-4c10-9ef5-c585ac6da701</td>\n",
       "      <td>PIECES</td>\n",
       "      <td>PIECES mischfarben   schwarz   Mischfarben   S...</td>\n",
       "    </tr>\n",
       "  </tbody>\n",
       "</table>\n",
       "</div>"
      ],
      "text/plain": [
       "                               offer_id        brand  \\\n",
       "0  d8e0dba8-98e8-48db-9850-dd30cff374e0       PIECES   \n",
       "1  c0a743f8-68cf-44dc-80cf-b5edbe70ecb7      LASCANA   \n",
       "2  f0328791-9839-4bc1-ac62-78b7515e9601  MAMALICIOUS   \n",
       "3  556e8f61-b1d7-4d72-8bae-d74f9357270b    rosemunde   \n",
       "4  48b32330-0a6e-4c10-9ef5-c585ac6da701       PIECES   \n",
       "\n",
       "                                             updated  \n",
       "0                       PIECES hellblau   Blau Kleid  \n",
       "1  LASCANA schwarz   mischfarben   Schwarz Bikini...  \n",
       "2               MAMALICIOUS beige   Beige Chino Hose  \n",
       "3              rosemunde rosa   Pink Top   Seidentop  \n",
       "4  PIECES mischfarben   schwarz   Mischfarben   S...  "
      ]
     },
     "execution_count": 12,
     "metadata": {},
     "output_type": "execute_result"
    }
   ],
   "source": [
    "offers_training_df_updated_2.head()"
   ]
  },
  {
   "cell_type": "code",
   "execution_count": 13,
   "id": "ffffa532",
   "metadata": {},
   "outputs": [
    {
     "data": {
      "text/html": [
       "<div>\n",
       "<style scoped>\n",
       "    .dataframe tbody tr th:only-of-type {\n",
       "        vertical-align: middle;\n",
       "    }\n",
       "\n",
       "    .dataframe tbody tr th {\n",
       "        vertical-align: top;\n",
       "    }\n",
       "\n",
       "    .dataframe thead th {\n",
       "        text-align: right;\n",
       "    }\n",
       "</style>\n",
       "<table border=\"1\" class=\"dataframe\">\n",
       "  <thead>\n",
       "    <tr style=\"text-align: right;\">\n",
       "      <th></th>\n",
       "      <th>offer_id</th>\n",
       "      <th>brand</th>\n",
       "      <th>updated</th>\n",
       "    </tr>\n",
       "  </thead>\n",
       "  <tbody>\n",
       "    <tr>\n",
       "      <th>0</th>\n",
       "      <td>d8e0dba8-98e8-48db-9850-dd30cff374e0</td>\n",
       "      <td>pieces</td>\n",
       "      <td>pieces hellblau   blau kleid</td>\n",
       "    </tr>\n",
       "    <tr>\n",
       "      <th>1</th>\n",
       "      <td>c0a743f8-68cf-44dc-80cf-b5edbe70ecb7</td>\n",
       "      <td>lascana</td>\n",
       "      <td>lascana schwarz   mischfarben   schwarz bikini...</td>\n",
       "    </tr>\n",
       "    <tr>\n",
       "      <th>2</th>\n",
       "      <td>f0328791-9839-4bc1-ac62-78b7515e9601</td>\n",
       "      <td>mamalicious</td>\n",
       "      <td>mamalicious beige   beige chino hose</td>\n",
       "    </tr>\n",
       "    <tr>\n",
       "      <th>3</th>\n",
       "      <td>556e8f61-b1d7-4d72-8bae-d74f9357270b</td>\n",
       "      <td>rosemunde</td>\n",
       "      <td>rosemunde rosa   pink top   seidentop</td>\n",
       "    </tr>\n",
       "    <tr>\n",
       "      <th>4</th>\n",
       "      <td>48b32330-0a6e-4c10-9ef5-c585ac6da701</td>\n",
       "      <td>pieces</td>\n",
       "      <td>pieces mischfarben   schwarz   mischfarben   s...</td>\n",
       "    </tr>\n",
       "  </tbody>\n",
       "</table>\n",
       "</div>"
      ],
      "text/plain": [
       "                               offer_id        brand  \\\n",
       "0  d8e0dba8-98e8-48db-9850-dd30cff374e0       pieces   \n",
       "1  c0a743f8-68cf-44dc-80cf-b5edbe70ecb7      lascana   \n",
       "2  f0328791-9839-4bc1-ac62-78b7515e9601  mamalicious   \n",
       "3  556e8f61-b1d7-4d72-8bae-d74f9357270b    rosemunde   \n",
       "4  48b32330-0a6e-4c10-9ef5-c585ac6da701       pieces   \n",
       "\n",
       "                                             updated  \n",
       "0                       pieces hellblau   blau kleid  \n",
       "1  lascana schwarz   mischfarben   schwarz bikini...  \n",
       "2               mamalicious beige   beige chino hose  \n",
       "3              rosemunde rosa   pink top   seidentop  \n",
       "4  pieces mischfarben   schwarz   mischfarben   s...  "
      ]
     },
     "execution_count": 13,
     "metadata": {},
     "output_type": "execute_result"
    }
   ],
   "source": [
    "offers_training_df_updated_3 = offers_training_df_updated_2.apply(lambda x: x.astype(str).str.lower())\n",
    "offers_training_df_updated_3.head()"
   ]
  },
  {
   "cell_type": "code",
   "execution_count": 14,
   "id": "977358e8",
   "metadata": {},
   "outputs": [
    {
     "name": "stdout",
     "output_type": "stream",
     "text": [
      "<class 'pandas.core.frame.DataFrame'>\n",
      "RangeIndex: 102884 entries, 0 to 102883\n",
      "Data columns (total 3 columns):\n",
      " #   Column    Non-Null Count   Dtype \n",
      "---  ------    --------------   ----- \n",
      " 0   offer_id  102884 non-null  object\n",
      " 1   brand     102884 non-null  object\n",
      " 2   updated   102884 non-null  object\n",
      "dtypes: object(3)\n",
      "memory usage: 2.4+ MB\n"
     ]
    }
   ],
   "source": [
    "offers_training_df_updated_3.info()"
   ]
  },
  {
   "cell_type": "code",
   "execution_count": 15,
   "id": "83f5c653",
   "metadata": {},
   "outputs": [
    {
     "data": {
      "text/plain": [
       "['ag jeans',\n",
       " 'björn borg',\n",
       " 'boley',\n",
       " 'bree',\n",
       " 'bruuns bazaar',\n",
       " 'bullboxer',\n",
       " 'burberry',\n",
       " 'burlington',\n",
       " 'call it spring',\n",
       " 'camano']"
      ]
     },
     "execution_count": 15,
     "metadata": {},
     "output_type": "execute_result"
    }
   ],
   "source": [
    "# sorting unique brand in the dataset\n",
    "\n",
    "unique_brand = offers_training_df_updated_3['brand'].unique().tolist()\n",
    "sorted(unique_brand)[:10]"
   ]
  },
  {
   "cell_type": "code",
   "execution_count": 18,
   "id": "7197dace",
   "metadata": {},
   "outputs": [
    {
     "data": {
      "text/plain": [
       "[('vero moda', 100),\n",
       " ('vero moda tall', 78),\n",
       " ('vero moda curve', 75),\n",
       " ('vero moda aware', 75),\n",
       " ('vero moda petite', 72)]"
      ]
     },
     "execution_count": 18,
     "metadata": {},
     "output_type": "execute_result"
    }
   ],
   "source": [
    "#  sorts the strings alphabetically and then joins\n",
    "\n",
    "process.extract('vero moda', unique_brand, scorer=fuzz.token_sort_ratio)"
   ]
  },
  {
   "cell_type": "code",
   "execution_count": 19,
   "id": "1eb9416a",
   "metadata": {},
   "outputs": [
    {
     "data": {
      "text/plain": [
       "[('vero moda', 100),\n",
       " ('vero moda curve', 100),\n",
       " ('vero moda aware', 100),\n",
       " ('vero moda petite', 100),\n",
       " ('vero moda tall', 100)]"
      ]
     },
     "execution_count": 19,
     "metadata": {},
     "output_type": "execute_result"
    }
   ],
   "source": [
    "# takes out the common tokens before calculating the fuzz.ratio()\n",
    "\n",
    "process.extract('vero moda', unique_brand, scorer=fuzz.token_set_ratio)"
   ]
  },
  {
   "cell_type": "code",
   "execution_count": 20,
   "id": "46677a9f",
   "metadata": {},
   "outputs": [
    {
     "data": {
      "text/plain": [
       "[('more & more', 100),\n",
       " ('gore wear', 56),\n",
       " ('free people', 50),\n",
       " ('vero moda curve', 50),\n",
       " ('vero moda aware', 50)]"
      ]
     },
     "execution_count": 20,
     "metadata": {},
     "output_type": "execute_result"
    }
   ],
   "source": [
    "process.extract('more & more', unique_brand, scorer=fuzz.token_sort_ratio)"
   ]
  },
  {
   "cell_type": "code",
   "execution_count": 21,
   "id": "f4b22275",
   "metadata": {},
   "outputs": [
    {
     "data": {
      "text/plain": [
       "[('more & more', 100),\n",
       " ('moves', 67),\n",
       " ('mother', 60),\n",
       " ('mons royale', 53),\n",
       " ('bree', 50)]"
      ]
     },
     "execution_count": 21,
     "metadata": {},
     "output_type": "execute_result"
    }
   ],
   "source": [
    "process.extract('more & more', unique_brand, scorer=fuzz.token_set_ratio)"
   ]
  },
  {
   "cell_type": "code",
   "execution_count": 22,
   "id": "4f96c6b7",
   "metadata": {},
   "outputs": [
    {
     "data": {
      "text/plain": [
       "['ag jeans altrosa   pink jeans',\n",
       " 'ag jeans anthrazit   grau jeans',\n",
       " 'ag jeans apricot   orange jeans',\n",
       " 'ag jeans beige   beige hose  velvet ',\n",
       " 'ag jeans beige   beige sweatshirt',\n",
       " 'ag jeans beige   weiß hose',\n",
       " 'ag jeans beige   weiß jeans',\n",
       " 'ag jeans beige   weiß sweatshirt   sweatjacke',\n",
       " 'ag jeans black denim   schwarz jeans',\n",
       " 'ag jeans black denim   schwarz jeans  alexxis ']"
      ]
     },
     "execution_count": 22,
     "metadata": {},
     "output_type": "execute_result"
    }
   ],
   "source": [
    "# sorting unique updated column (combined column) in the dataset\n",
    "\n",
    "unique_updated = offers_training_df_updated_3['updated'].unique().tolist()\n",
    "sorted(unique_updated)[:10]"
   ]
  },
  {
   "cell_type": "code",
   "execution_count": 23,
   "id": "acb9dc62",
   "metadata": {},
   "outputs": [
    {
     "data": {
      "text/plain": [
       "[('jette pink   pink polo shirt', 100),\n",
       " ('jette grün   pink   pink polo shirt', 93),\n",
       " ('jette pink   pink t shirt', 86),\n",
       " ('jette pink   pink uhr', 80),\n",
       " ('more   more pink   weiß   pink poloshirt', 75)]"
      ]
     },
     "execution_count": 23,
     "metadata": {},
     "output_type": "execute_result"
    }
   ],
   "source": [
    "process.extract('jette pink pink polo shirt', unique_updated, scorer=fuzz.token_sort_ratio)"
   ]
  },
  {
   "cell_type": "code",
   "execution_count": 24,
   "id": "ceb2f9c9",
   "metadata": {},
   "outputs": [
    {
     "data": {
      "text/plain": [
       "[('jette pink   pink polo shirt', 100),\n",
       " ('jette grün   pink   pink polo shirt', 100),\n",
       " ('jette pink   pink t shirt', 94),\n",
       " ('jette weiß   weiß polo shirt', 89),\n",
       " ('jette pastellgelb   pink   wollweiß   beige t shirt', 86)]"
      ]
     },
     "execution_count": 24,
     "metadata": {},
     "output_type": "execute_result"
    }
   ],
   "source": [
    "process.extract('jette pink pink polo shirt', unique_updated, scorer=fuzz.token_set_ratio)"
   ]
  },
  {
   "cell_type": "code",
   "execution_count": 25,
   "id": "468c740a",
   "metadata": {},
   "outputs": [
    {
     "data": {
      "text/plain": [
       "[('zizzi schwarz jerseykleid', 100),\n",
       " ('zizzi schwarz jeanskleid', 90),\n",
       " ('zizzi schwarz echole jerseykleid', 88),\n",
       " ('zizzi schwarz freizeitkleid', 81),\n",
       " ('zizzi schwarz vmacy dress jerseykleid', 81)]"
      ]
     },
     "execution_count": 25,
     "metadata": {},
     "output_type": "execute_result"
    }
   ],
   "source": [
    "process.extract('zizzi schwarz jerseykleid', unique_updated, scorer=fuzz.token_sort_ratio)"
   ]
  },
  {
   "cell_type": "code",
   "execution_count": 26,
   "id": "974feae2",
   "metadata": {},
   "outputs": [
    {
     "data": {
      "text/plain": [
       "[('zizzi schwarz jerseykleid', 100),\n",
       " ('zizzi schwarz strap long jerseykleid etuikleid', 100),\n",
       " ('zizzi schwarz vfreja dress jerseykleid', 100),\n",
       " ('zizzi schwarz vmacy dress jerseykleid', 100),\n",
       " ('zizzi schwarz echole jerseykleid', 100)]"
      ]
     },
     "execution_count": 26,
     "metadata": {},
     "output_type": "execute_result"
    }
   ],
   "source": [
    "process.extract('zizzi schwarz jerseykleid', unique_updated, scorer=fuzz.token_set_ratio)"
   ]
  },
  {
   "cell_type": "code",
   "execution_count": 29,
   "id": "8f6c66d8",
   "metadata": {},
   "outputs": [
    {
     "data": {
      "text/html": [
       "<div>\n",
       "<style scoped>\n",
       "    .dataframe tbody tr th:only-of-type {\n",
       "        vertical-align: middle;\n",
       "    }\n",
       "\n",
       "    .dataframe tbody tr th {\n",
       "        vertical-align: top;\n",
       "    }\n",
       "\n",
       "    .dataframe thead th {\n",
       "        text-align: right;\n",
       "    }\n",
       "</style>\n",
       "<table border=\"1\" class=\"dataframe\">\n",
       "  <thead>\n",
       "    <tr style=\"text-align: right;\">\n",
       "      <th></th>\n",
       "      <th>frequency</th>\n",
       "    </tr>\n",
       "  </thead>\n",
       "  <tbody>\n",
       "    <tr>\n",
       "      <th>vero moda</th>\n",
       "      <td>468</td>\n",
       "    </tr>\n",
       "    <tr>\n",
       "      <th>schwarz schwarz</th>\n",
       "      <td>242</td>\n",
       "    </tr>\n",
       "    <tr>\n",
       "      <th>moda schwarz</th>\n",
       "      <td>130</td>\n",
       "    </tr>\n",
       "    <tr>\n",
       "      <th>weiß weiß</th>\n",
       "      <td>74</td>\n",
       "    </tr>\n",
       "    <tr>\n",
       "      <th>schwarz weiß</th>\n",
       "      <td>63</td>\n",
       "    </tr>\n",
       "    <tr>\n",
       "      <th>...</th>\n",
       "      <td>...</td>\n",
       "    </tr>\n",
       "    <tr>\n",
       "      <th>jeans ellie</th>\n",
       "      <td>1</td>\n",
       "    </tr>\n",
       "    <tr>\n",
       "      <th>jeans flikka</th>\n",
       "      <td>1</td>\n",
       "    </tr>\n",
       "    <tr>\n",
       "      <th>jeans gila</th>\n",
       "      <td>1</td>\n",
       "    </tr>\n",
       "    <tr>\n",
       "      <th>jeans grace</th>\n",
       "      <td>1</td>\n",
       "    </tr>\n",
       "    <tr>\n",
       "      <th>mlkesia lia</th>\n",
       "      <td>1</td>\n",
       "    </tr>\n",
       "  </tbody>\n",
       "</table>\n",
       "<p>4827 rows × 1 columns</p>\n",
       "</div>"
      ],
      "text/plain": [
       "                 frequency\n",
       "vero moda              468\n",
       "schwarz schwarz        242\n",
       "moda schwarz           130\n",
       "weiß weiß               74\n",
       "schwarz weiß            63\n",
       "...                    ...\n",
       "jeans ellie              1\n",
       "jeans flikka             1\n",
       "jeans gila               1\n",
       "jeans grace              1\n",
       "mlkesia lia              1\n",
       "\n",
       "[4827 rows x 1 columns]"
      ]
     },
     "execution_count": 29,
     "metadata": {},
     "output_type": "execute_result"
    }
   ],
   "source": [
    "#to find the frequency of how many brands are frequently occuring in the dataset \n",
    "#we use count vectorizer\n",
    "\n",
    "import pandas as pd\n",
    "import matplotlib.pyplot as plt\n",
    "import plotly.express as px\n",
    "from sklearn.feature_extraction.text import CountVectorizer\n",
    "from collections import Counter\n",
    "\n",
    "\n",
    "vectorizer = CountVectorizer(ngram_range=(2,2), analyzer='word')\n",
    "sparse_matrix = vectorizer.fit_transform(offers_training_df_updated_3['updated'][:2000])\n",
    "frequencies = sum(sparse_matrix).toarray()[0]\n",
    "ngrams = pd.DataFrame(frequencies, index=vectorizer.get_feature_names(), columns=['frequency'])\n",
    "ngrams = ngrams.sort_values(by='frequency', ascending=False)\n",
    "ngrams"
   ]
  },
  {
   "cell_type": "code",
   "execution_count": 27,
   "id": "241b3212",
   "metadata": {},
   "outputs": [
    {
     "data": {
      "text/html": [
       "<div>\n",
       "<style scoped>\n",
       "    .dataframe tbody tr th:only-of-type {\n",
       "        vertical-align: middle;\n",
       "    }\n",
       "\n",
       "    .dataframe tbody tr th {\n",
       "        vertical-align: top;\n",
       "    }\n",
       "\n",
       "    .dataframe thead th {\n",
       "        text-align: right;\n",
       "    }\n",
       "</style>\n",
       "<table border=\"1\" class=\"dataframe\">\n",
       "  <thead>\n",
       "    <tr style=\"text-align: right;\">\n",
       "      <th></th>\n",
       "      <th>offer_id</th>\n",
       "      <th>brand</th>\n",
       "      <th>updated</th>\n",
       "    </tr>\n",
       "  </thead>\n",
       "  <tbody>\n",
       "    <tr>\n",
       "      <th>39</th>\n",
       "      <td>4f767b35-6e84-4dd5-a814-34d9c559efcc</td>\n",
       "      <td>more &amp; more</td>\n",
       "      <td>more   more creme   schwarz   schwarz bleistif...</td>\n",
       "    </tr>\n",
       "    <tr>\n",
       "      <th>55</th>\n",
       "      <td>cccef1eb-d8b3-45da-99e5-7b63fc879cdc</td>\n",
       "      <td>more &amp; more</td>\n",
       "      <td>more   more anthrazit   grau jeansjacke</td>\n",
       "    </tr>\n",
       "    <tr>\n",
       "      <th>74</th>\n",
       "      <td>a34d253a-da00-4596-b574-b9bc047e9d09</td>\n",
       "      <td>more &amp; more</td>\n",
       "      <td>more   more blau   blau shirtjacke</td>\n",
       "    </tr>\n",
       "    <tr>\n",
       "      <th>97</th>\n",
       "      <td>34a35756-9fc4-4d38-8da4-1a03637175fe</td>\n",
       "      <td>more &amp; more</td>\n",
       "      <td>more   more schwarz   schwarz plisseerock</td>\n",
       "    </tr>\n",
       "    <tr>\n",
       "      <th>148</th>\n",
       "      <td>c150641e-4b83-4fc3-8c70-9ace7eb93f52</td>\n",
       "      <td>more &amp; more</td>\n",
       "      <td>more   more schwarz   silber   schwarz t shirt</td>\n",
       "    </tr>\n",
       "  </tbody>\n",
       "</table>\n",
       "</div>"
      ],
      "text/plain": [
       "                                 offer_id        brand  \\\n",
       "39   4f767b35-6e84-4dd5-a814-34d9c559efcc  more & more   \n",
       "55   cccef1eb-d8b3-45da-99e5-7b63fc879cdc  more & more   \n",
       "74   a34d253a-da00-4596-b574-b9bc047e9d09  more & more   \n",
       "97   34a35756-9fc4-4d38-8da4-1a03637175fe  more & more   \n",
       "148  c150641e-4b83-4fc3-8c70-9ace7eb93f52  more & more   \n",
       "\n",
       "                                               updated  \n",
       "39   more   more creme   schwarz   schwarz bleistif...  \n",
       "55             more   more anthrazit   grau jeansjacke  \n",
       "74                  more   more blau   blau shirtjacke  \n",
       "97           more   more schwarz   schwarz plisseerock  \n",
       "148     more   more schwarz   silber   schwarz t shirt  "
      ]
     },
     "execution_count": 27,
     "metadata": {},
     "output_type": "execute_result"
    }
   ],
   "source": [
    "# taking a single brand 'more & more' out the dataset and working on that brand \n",
    "# for tfidf and cosine similarity\n",
    "\n",
    "offers_training_df_updated_3_moremore = offers_training_df_updated_3[offers_training_df_updated_3['brand'] == 'more & more']\n",
    "offers_training_df_updated_3_moremore.head()"
   ]
  },
  {
   "cell_type": "code",
   "execution_count": 28,
   "id": "f12449a8",
   "metadata": {},
   "outputs": [
    {
     "name": "stdout",
     "output_type": "stream",
     "text": [
      "<class 'pandas.core.frame.DataFrame'>\n",
      "Int64Index: 2928 entries, 39 to 102876\n",
      "Data columns (total 3 columns):\n",
      " #   Column    Non-Null Count  Dtype \n",
      "---  ------    --------------  ----- \n",
      " 0   offer_id  2928 non-null   object\n",
      " 1   brand     2928 non-null   object\n",
      " 2   updated   2928 non-null   object\n",
      "dtypes: object(3)\n",
      "memory usage: 91.5+ KB\n"
     ]
    }
   ],
   "source": [
    "offers_training_df_updated_3_moremore.info()"
   ]
  },
  {
   "cell_type": "code",
   "execution_count": 30,
   "id": "4bb59ba4",
   "metadata": {},
   "outputs": [],
   "source": [
    "# to calculate tfidf and cosine similarity \n",
    "# following functions are used \n",
    "\n",
    "def normalize(X): \n",
    "  normalized = []\n",
    "  for x in X:\n",
    "    words = nltk.word_tokenize(x)\n",
    "    normalized.append(' '.join([stemmer.stem(word) for word in words if re.match('[a-zA-Z]+', word)]))\n",
    "  return normalized"
   ]
  },
  {
   "cell_type": "code",
   "execution_count": 32,
   "id": "c842ff84",
   "metadata": {},
   "outputs": [],
   "source": [
    "# The pipeline can be used as an estimator\n",
    "# stemmers is very useful in keeping the words as a stem\n",
    "\n",
    "from nltk.stem.snowball import SnowballStemmer\n",
    "stemmer = SnowballStemmer(\"english\", ignore_stopwords=False)\n",
    "from sklearn.pipeline import Pipeline\n",
    "from sklearn.feature_extraction.text import CountVectorizer, TfidfTransformer\n",
    "from sklearn.preprocessing import FunctionTransformer\n",
    "from nltk.corpus import stopwords\n",
    "\n",
    "german_stop_words = stopwords.words('german')\n",
    "\n",
    "pipe = Pipeline([\n",
    "  ('normalize', FunctionTransformer(normalize, validate=False)),\n",
    "  ('counter_vectorizer', CountVectorizer(\n",
    "    max_df=0.8, max_features=200000,\n",
    "    min_df=0.2, stop_words=german_stop_words,\n",
    "    ngram_range=(1,3), dtype='uint8'\n",
    "  )),\n",
    "  ('tfidf_transform', TfidfTransformer())\n",
    "])\n",
    "\n",
    "tfidf_matrix = pipe.fit_transform([x for x in offers_training_df_updated_3_moremore['updated']])"
   ]
  },
  {
   "cell_type": "code",
   "execution_count": 33,
   "id": "5bee5464",
   "metadata": {},
   "outputs": [],
   "source": [
    "from sklearn.metrics.pairwise import cosine_similarity\n",
    "similarity_distance = 1 - cosine_similarity(tfidf_matrix)"
   ]
  },
  {
   "cell_type": "code",
   "execution_count": 34,
   "id": "a48f6944",
   "metadata": {},
   "outputs": [
    {
     "data": {
      "text/plain": [
       "array([[1.        , 0.        , 0.        , ..., 0.        , 0.78669406,\n",
       "        0.53735414],\n",
       "       [0.        , 0.        , 0.        , ..., 0.        , 0.        ,\n",
       "        0.        ],\n",
       "       [0.        , 0.        , 0.        , ..., 0.        , 0.        ,\n",
       "        0.        ],\n",
       "       ...,\n",
       "       [0.        , 0.        , 0.        , ..., 0.        , 0.        ,\n",
       "        0.        ],\n",
       "       [0.78669406, 0.        , 0.        , ..., 0.        , 1.        ,\n",
       "        0.94337372],\n",
       "       [0.53735414, 0.        , 0.        , ..., 0.        , 0.94337372,\n",
       "        1.        ]])"
      ]
     },
     "execution_count": 34,
     "metadata": {},
     "output_type": "execute_result"
    }
   ],
   "source": [
    "# cosine similarity for brand 'more & more' has been generated\n",
    "\n",
    "cosine_similarity(tfidf_matrix)"
   ]
  },
  {
   "cell_type": "code",
   "execution_count": 35,
   "id": "2a924dc2",
   "metadata": {},
   "outputs": [
    {
     "data": {
      "text/html": [
       "<div>\n",
       "<style scoped>\n",
       "    .dataframe tbody tr th:only-of-type {\n",
       "        vertical-align: middle;\n",
       "    }\n",
       "\n",
       "    .dataframe tbody tr th {\n",
       "        vertical-align: top;\n",
       "    }\n",
       "\n",
       "    .dataframe thead th {\n",
       "        text-align: right;\n",
       "    }\n",
       "</style>\n",
       "<table border=\"1\" class=\"dataframe\">\n",
       "  <thead>\n",
       "    <tr style=\"text-align: right;\">\n",
       "      <th></th>\n",
       "      <th>offer_id</th>\n",
       "      <th>brand</th>\n",
       "      <th>updated</th>\n",
       "    </tr>\n",
       "  </thead>\n",
       "  <tbody>\n",
       "    <tr>\n",
       "      <th>209</th>\n",
       "      <td>34e2b4b8-2f28-44d5-b533-3eeb3b689a87</td>\n",
       "      <td>camano</td>\n",
       "      <td>camano navy   hellblau   blau sportsocken</td>\n",
       "    </tr>\n",
       "    <tr>\n",
       "      <th>323</th>\n",
       "      <td>8a9363c2-9f47-49d2-ac34-6d0ad005e75c</td>\n",
       "      <td>camano</td>\n",
       "      <td>camano beige   beige feinkniestrümpfe  season ...</td>\n",
       "    </tr>\n",
       "    <tr>\n",
       "      <th>640</th>\n",
       "      <td>d58e6d51-3abf-40ef-bafe-883f55344708</td>\n",
       "      <td>camano</td>\n",
       "      <td>camano bordeaux soft sneaker box 7 pack socken</td>\n",
       "    </tr>\n",
       "    <tr>\n",
       "      <th>907</th>\n",
       "      <td>0add35ef-b84c-4dd2-b039-837aaabe2a52</td>\n",
       "      <td>camano</td>\n",
       "      <td>camano schwarz true matt leggings   strümpfe</td>\n",
       "    </tr>\n",
       "    <tr>\n",
       "      <th>944</th>\n",
       "      <td>1afb433d-788f-423b-ac7d-a2c2a8443171</td>\n",
       "      <td>camano</td>\n",
       "      <td>camano schwarz   grau   blau   grau   blau soc...</td>\n",
       "    </tr>\n",
       "  </tbody>\n",
       "</table>\n",
       "</div>"
      ],
      "text/plain": [
       "                                 offer_id   brand  \\\n",
       "209  34e2b4b8-2f28-44d5-b533-3eeb3b689a87  camano   \n",
       "323  8a9363c2-9f47-49d2-ac34-6d0ad005e75c  camano   \n",
       "640  d58e6d51-3abf-40ef-bafe-883f55344708  camano   \n",
       "907  0add35ef-b84c-4dd2-b039-837aaabe2a52  camano   \n",
       "944  1afb433d-788f-423b-ac7d-a2c2a8443171  camano   \n",
       "\n",
       "                                               updated  \n",
       "209          camano navy   hellblau   blau sportsocken  \n",
       "323  camano beige   beige feinkniestrümpfe  season ...  \n",
       "640     camano bordeaux soft sneaker box 7 pack socken  \n",
       "907       camano schwarz true matt leggings   strümpfe  \n",
       "944  camano schwarz   grau   blau   grau   blau soc...  "
      ]
     },
     "execution_count": 35,
     "metadata": {},
     "output_type": "execute_result"
    }
   ],
   "source": [
    "offers_training_df_updated_3_camano = offers_training_df_updated_3[offers_training_df_updated_3['brand'] == 'camano']\n",
    "offers_training_df_updated_3_camano.head()"
   ]
  },
  {
   "cell_type": "code",
   "execution_count": 36,
   "id": "8f196bef",
   "metadata": {},
   "outputs": [],
   "source": [
    "from sklearn.pipeline import Pipeline\n",
    "from sklearn.feature_extraction.text import CountVectorizer, TfidfTransformer\n",
    "from sklearn.preprocessing import FunctionTransformer\n",
    "from nltk.corpus import stopwords\n",
    "\n",
    "german_stop_words = stopwords.words('german')\n",
    "\n",
    "pipe = Pipeline([\n",
    "  ('normalize', FunctionTransformer(normalize, validate=False)),\n",
    "  ('counter_vectorizer', CountVectorizer(\n",
    "    max_df=0.8, max_features=200000,\n",
    "    min_df=0.2, stop_words=german_stop_words,\n",
    "    ngram_range=(1,3), dtype='uint8'\n",
    "  )),\n",
    "  ('tfidf_transform', TfidfTransformer())\n",
    "])\n",
    "\n",
    "tfidf_matrix_2 = pipe.fit_transform([x for x in offers_training_df_updated_3_camano['updated']])"
   ]
  },
  {
   "cell_type": "code",
   "execution_count": 37,
   "id": "cc06b2d2",
   "metadata": {},
   "outputs": [],
   "source": [
    "from sklearn.metrics.pairwise import cosine_similarity\n",
    "similarity_distance = 1 - cosine_similarity(tfidf_matrix_2)"
   ]
  },
  {
   "cell_type": "code",
   "execution_count": 38,
   "id": "405fb9d7",
   "metadata": {},
   "outputs": [
    {
     "data": {
      "text/plain": [
       "array([[0.        , 0.        , 0.        , ..., 0.        , 0.        ,\n",
       "        0.        ],\n",
       "       [0.        , 0.        , 0.        , ..., 0.        , 0.        ,\n",
       "        0.        ],\n",
       "       [0.        , 0.        , 1.        , ..., 0.        , 0.58408849,\n",
       "        0.        ],\n",
       "       ...,\n",
       "       [0.        , 0.        , 0.        , ..., 1.        , 0.        ,\n",
       "        0.        ],\n",
       "       [0.        , 0.        , 0.58408849, ..., 0.        , 1.        ,\n",
       "        0.        ],\n",
       "       [0.        , 0.        , 0.        , ..., 0.        , 0.        ,\n",
       "        0.        ]])"
      ]
     },
     "execution_count": 38,
     "metadata": {},
     "output_type": "execute_result"
    }
   ],
   "source": [
    "# cosine similarity for 2nd brand 'camano'\n",
    "\n",
    "cosine_similarity(tfidf_matrix_2)"
   ]
  },
  {
   "cell_type": "code",
   "execution_count": null,
   "id": "3906dc9c",
   "metadata": {},
   "outputs": [],
   "source": []
  }
 ],
 "metadata": {
  "kernelspec": {
   "display_name": "Python 3 (ipykernel)",
   "language": "python",
   "name": "python3"
  },
  "language_info": {
   "codemirror_mode": {
    "name": "ipython",
    "version": 3
   },
   "file_extension": ".py",
   "mimetype": "text/x-python",
   "name": "python",
   "nbconvert_exporter": "python",
   "pygments_lexer": "ipython3",
   "version": "3.9.7"
  }
 },
 "nbformat": 4,
 "nbformat_minor": 5
}
